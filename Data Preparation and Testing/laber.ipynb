{
 "cells": [
  {
   "cell_type": "code",
   "execution_count": null,
   "id": "62818927",
   "metadata": {},
   "outputs": [],
   "source": [
    "from moviepy.editor import *\n",
    "\n",
    "liste3 = []\n",
    "clips = []\n",
    "videos = []\n",
    "\n",
    "def labeler(pathv, patht, duri):\n",
    "    clip = VideoFileClip(pathv).subclip(0,duri)\n",
    "    with open(str(patht)) as f:\n",
    "        lines = f.readlines()\n",
    "    for i in range(0, len(lines)):\n",
    "        liste3.append(lines[i])\n",
    "    for k in range(0,duri):\n",
    "        clips.append(VideoFileClip(pathv).subclip(k,k+1))\n",
    "    for j in range(0,duri):\n",
    "        text_1 = TextClip(\"{}\".format(liste3[j]), color='white', align='West', fontsize=100, font='Arial', method='label').set_position((\"center\", \"top\")).set_duration(1) \n",
    "        videos.append(CompositeVideoClip([clips[j], text_1]))\n",
    "def rekur(x):\n",
    "    if x == 1:\n",
    "        return videos[0]\n",
    "    else:\n",
    "        return concatenate_videoclips([rekur(x-1),videos[x]])"
   ]
  },
  {
   "cell_type": "code",
   "execution_count": null,
   "id": "e1eb7354",
   "metadata": {},
   "outputs": [],
   "source": [
    "# labeler(\"compare.mp4\", \"compare.txt\", 10)"
   ]
  },
  {
   "cell_type": "code",
   "execution_count": null,
   "id": "7ab8527d",
   "metadata": {},
   "outputs": [],
   "source": [
    "# rekur(9).ipython_display(width = 720, maxduration=65) "
   ]
  },
  {
   "cell_type": "code",
   "execution_count": null,
   "id": "06e27843",
   "metadata": {},
   "outputs": [],
   "source": []
  }
 ],
 "metadata": {
  "kernelspec": {
   "display_name": "Python 3",
   "language": "python",
   "name": "python3"
  },
  "language_info": {
   "codemirror_mode": {
    "name": "ipython",
    "version": 3
   },
   "file_extension": ".py",
   "mimetype": "text/x-python",
   "name": "python",
   "nbconvert_exporter": "python",
   "pygments_lexer": "ipython3",
   "version": "3.6.13"
  }
 },
 "nbformat": 4,
 "nbformat_minor": 5
}
